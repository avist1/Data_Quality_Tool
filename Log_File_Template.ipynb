{
 "cells": [
  {
   "cell_type": "code",
   "execution_count": 27,
   "metadata": {},
   "outputs": [],
   "source": [
    "import pandas as pd\n",
    "from datetime import datetime\n",
    "from tqdm.notebook import tqdm\n",
    "import re\n",
    "import seaborn as sn\n",
    "import plotly_express as px\n",
    "import random\n",
    "from urllib.parse import urlparse"
   ]
  },
  {
   "cell_type": "code",
   "execution_count": 16,
   "metadata": {},
   "outputs": [],
   "source": [
    "### sample data"
   ]
  },
  {
   "cell_type": "code",
   "execution_count": 17,
   "metadata": {},
   "outputs": [
    {
     "data": {
      "text/html": [
       "<div>\n",
       "<style scoped>\n",
       "    .dataframe tbody tr th:only-of-type {\n",
       "        vertical-align: middle;\n",
       "    }\n",
       "\n",
       "    .dataframe tbody tr th {\n",
       "        vertical-align: top;\n",
       "    }\n",
       "\n",
       "    .dataframe thead th {\n",
       "        text-align: right;\n",
       "    }\n",
       "</style>\n",
       "<table border=\"1\" class=\"dataframe\">\n",
       "  <thead>\n",
       "    <tr style=\"text-align: right;\">\n",
       "      <th></th>\n",
       "      <th>id</th>\n",
       "      <th>SvivaUpdateDay</th>\n",
       "      <th>SvivaEventDate</th>\n",
       "      <th>Value</th>\n",
       "    </tr>\n",
       "  </thead>\n",
       "  <tbody>\n",
       "    <tr>\n",
       "      <th>0</th>\n",
       "      <td>1</td>\n",
       "      <td>07/01/2012 00:00</td>\n",
       "      <td>06/01/2012 00:00</td>\n",
       "      <td>NaN</td>\n",
       "    </tr>\n",
       "    <tr>\n",
       "      <th>1</th>\n",
       "      <td>2</td>\n",
       "      <td>02/01/2012 00:00</td>\n",
       "      <td>02/01/2012 00:00</td>\n",
       "      <td>https://www.sport5.co.il/</td>\n",
       "    </tr>\n",
       "    <tr>\n",
       "      <th>2</th>\n",
       "      <td>3</td>\n",
       "      <td>07/01/2012 00:00</td>\n",
       "      <td>07/01/2012 00:00</td>\n",
       "      <td>https://www.bbc.com/sport/all-sports</td>\n",
       "    </tr>\n",
       "    <tr>\n",
       "      <th>3</th>\n",
       "      <td>4</td>\n",
       "      <td>NaN</td>\n",
       "      <td>01/01/1999 00:00</td>\n",
       "      <td>https://www.bb56c.com/sport/all-sports</td>\n",
       "    </tr>\n",
       "    <tr>\n",
       "      <th>4</th>\n",
       "      <td>5</td>\n",
       "      <td>###</td>\n",
       "      <td>01/01/1999 00:00</td>\n",
       "      <td>NaN</td>\n",
       "    </tr>\n",
       "  </tbody>\n",
       "</table>\n",
       "</div>"
      ],
      "text/plain": [
       "   id    SvivaUpdateDay    SvivaEventDate  \\\n",
       "0   1  07/01/2012 00:00  06/01/2012 00:00   \n",
       "1   2  02/01/2012 00:00  02/01/2012 00:00   \n",
       "2   3  07/01/2012 00:00  07/01/2012 00:00   \n",
       "3   4               NaN  01/01/1999 00:00   \n",
       "4   5               ###  01/01/1999 00:00   \n",
       "\n",
       "                                    Value  \n",
       "0                                     NaN  \n",
       "1               https://www.sport5.co.il/  \n",
       "2    https://www.bbc.com/sport/all-sports  \n",
       "3  https://www.bb56c.com/sport/all-sports  \n",
       "4                                     NaN  "
      ]
     },
     "execution_count": 17,
     "metadata": {},
     "output_type": "execute_result"
    }
   ],
   "source": [
    "df = pd.read_csv(r'Data_Quality_Log/Test_urls_new.csv')\n",
    "df.head()"
   ]
  },
  {
   "cell_type": "code",
   "execution_count": 4,
   "metadata": {},
   "outputs": [],
   "source": [
    "### Null Test"
   ]
  },
  {
   "cell_type": "code",
   "execution_count": 19,
   "metadata": {},
   "outputs": [],
   "source": [
    "#### Extract url from string using REGEX"
   ]
  },
  {
   "cell_type": "code",
   "execution_count": 21,
   "metadata": {},
   "outputs": [
    {
     "data": {
      "text/plain": [
       "'http://documents.sviva.gov.il/B001_3_160174_20190925_1030.pdf'"
      ]
     },
     "execution_count": 21,
     "metadata": {},
     "output_type": "execute_result"
    }
   ],
   "source": [
    "def Find_Url(string): \n",
    "    regex = r\"(?i)\\b((?:https?://|www\\d{0,3}[.]|[a-z0-9.\\-]+[.][a-z]{2,4}/)(?:[^\\s()<>]+|\\(([^\\s()<>]+|(\\([^\\s()<>]+\\)))*\\))+(?:\\(([^\\s()<>]+|(\\([^\\s()<>]+\\)))*\\)|[^\\s`!()\\[\\]{};:'\\\".,<>?«»“”‘’]))\"\n",
    "    url = re.findall(regex,string)     \n",
    "    url =list(dict.fromkeys([x[0] for x in url]))\n",
    "    return url\n",
    "###########################################################################\n",
    "Find_Url('http://documents.sviva.gov.il/B001_3_160174_20190925_1030.pdf')[0]"
   ]
  },
  {
   "cell_type": "code",
   "execution_count": 22,
   "metadata": {},
   "outputs": [],
   "source": [
    "### detect response_code : 200- valid, 404 - inavild url "
   ]
  },
  {
   "cell_type": "code",
   "execution_count": 24,
   "metadata": {},
   "outputs": [],
   "source": [
    "def check_response_test(url):\n",
    "    headers={\n",
    "        \"User-Agent\" : \"Mozilla/5.0 (X11; Linux x86_64) AppleWebKit/537.36 (KHTML, like Gecko) Chrome/51.0.2704.103 Safari/537.36\"}    \n",
    "    try:    \n",
    "        r = requests.get(url,headers = headers)\n",
    "        if(r.status_code == 200):\n",
    "            return 'Valid_Link'\n",
    "    except:\n",
    "        return 'Invalid_Link'"
   ]
  },
  {
   "cell_type": "code",
   "execution_count": 25,
   "metadata": {},
   "outputs": [],
   "source": [
    "### eror_logs_test -> main quality function that include:\n",
    "####  Detect NULL,space/spaces \n",
    "####  Detect special characters \n",
    "####  checks if website address exist\n",
    "####  check if value contains html tags\n",
    "### Output of data quality  is error log file."
   ]
  },
  {
   "cell_type": "code",
   "execution_count": 9,
   "metadata": {},
   "outputs": [],
   "source": [
    "def eror_logs_test(df):\n",
    "    col_name,index_list,eror_type,result_list,temp_list = ([] for i in range(5))\n",
    "    col_names = df.columns\n",
    "    num_of_iterations = list(range(len(col_names)))\n",
    "    for i in tqdm(num_of_iterations,desc = 'progress'):\n",
    "        for index,row in tqdm(df.iterrows()):###tqdm\n",
    "            mask_space = len(' '.join(str(row[i]).split()))== 0\n",
    "            special_char = re.sub('[!@#$%^&*(),.?\":{}|<>]','',str(row[i]))\n",
    "            tag_eror = ('>' in str(row[i]) or '<' in str(row[i]))\n",
    "            now = str(datetime.now().strftime(\"%d/%m/%Y %H:%M:%S\"))\n",
    "            if (pd.isnull(row[i])!=True):\n",
    "                if ((mask_space) or (str(row[i]).lower()=='null') or (pd.isnull(row[i]))):\n",
    "                    result_list.append([random.randint(0,1000)]+[col_names[i]]+[index]+['space']+[row[i]]+[str(now)])\n",
    "                elif(len(special_char)==0):\n",
    "                    result_list.append([random.randint(0,1000)]+[col_names[i]]+[index]+['special_char']+[row[i]]+[str(now)])\n",
    "                elif (len(Find_Url(str(row[i])))>0):    \n",
    "                    try:\n",
    "                        html = Find_Url(row[i])[0]\n",
    "                        parsed_uri = urlparse(html)\n",
    "                        if ('{uri.scheme}://{uri.netloc}'.format(uri=parsed_uri) not in temp_list):\n",
    "                            temp_list.append('{uri.scheme}://{uri.netloc}'.format(uri=parsed_uri))\n",
    "                            if (check_response_test(html) == 'Invalid_Link') :\n",
    "                                result_list.append([random.randint(0,1000)]+[col_names[i]]+[index]+['Invalid_Link']+[html]+[str(now)])\n",
    "                            else:\n",
    "                                pass\n",
    "                        else:\n",
    "                            pass\n",
    "                    except:\n",
    "                        pass\n",
    "                elif(tag_eror):\n",
    "                        result_list.append([random.randint(0,1000)]+[col_names[i]]+[index]+['tag_eror']+[row[i]]+[str(now)])       \n",
    "                elif(str(row[i]).lower()=='null'):\n",
    "                    result_list.append([random.randint(0,1000)]+[col_names[i]]+[index]+['null']+[row[i]]+[str(now)])\n",
    "            else:\n",
    "                pass\n",
    "    return result_list"
   ]
  },
  {
   "cell_type": "code",
   "execution_count": 26,
   "metadata": {},
   "outputs": [],
   "source": [
    "## example of using data quality function (\"eror_logs_test\") on sample data"
   ]
  },
  {
   "cell_type": "code",
   "execution_count": 12,
   "metadata": {},
   "outputs": [
    {
     "data": {
      "application/vnd.jupyter.widget-view+json": {
       "model_id": "d958abe334ed4356a87123d37d05e6c9",
       "version_major": 2,
       "version_minor": 0
      },
      "text/plain": [
       "HBox(children=(FloatProgress(value=0.0, description='progress', max=4.0, style=ProgressStyle(description_width…"
      ]
     },
     "metadata": {},
     "output_type": "display_data"
    },
    {
     "data": {
      "application/vnd.jupyter.widget-view+json": {
       "model_id": "b1d77651b30e4327999c2bb96ee3379c",
       "version_major": 2,
       "version_minor": 0
      },
      "text/plain": [
       "HBox(children=(FloatProgress(value=1.0, bar_style='info', max=1.0), HTML(value='')))"
      ]
     },
     "metadata": {},
     "output_type": "display_data"
    },
    {
     "name": "stdout",
     "output_type": "stream",
     "text": [
      "\n"
     ]
    },
    {
     "data": {
      "application/vnd.jupyter.widget-view+json": {
       "model_id": "8cca2626793c485fbb66745f9f3c108b",
       "version_major": 2,
       "version_minor": 0
      },
      "text/plain": [
       "HBox(children=(FloatProgress(value=1.0, bar_style='info', max=1.0), HTML(value='')))"
      ]
     },
     "metadata": {},
     "output_type": "display_data"
    },
    {
     "name": "stdout",
     "output_type": "stream",
     "text": [
      "\n"
     ]
    },
    {
     "data": {
      "application/vnd.jupyter.widget-view+json": {
       "model_id": "8fedc66d0bb443b88ac599a13928b1e0",
       "version_major": 2,
       "version_minor": 0
      },
      "text/plain": [
       "HBox(children=(FloatProgress(value=1.0, bar_style='info', max=1.0), HTML(value='')))"
      ]
     },
     "metadata": {},
     "output_type": "display_data"
    },
    {
     "name": "stdout",
     "output_type": "stream",
     "text": [
      "\n"
     ]
    },
    {
     "data": {
      "application/vnd.jupyter.widget-view+json": {
       "model_id": "021d80998cb6446185c5f611017e6b72",
       "version_major": 2,
       "version_minor": 0
      },
      "text/plain": [
       "HBox(children=(FloatProgress(value=1.0, bar_style='info', max=1.0), HTML(value='')))"
      ]
     },
     "metadata": {},
     "output_type": "display_data"
    },
    {
     "name": "stdout",
     "output_type": "stream",
     "text": [
      "\n",
      "\n",
      " actul_run time is 0:00:03.453726\n"
     ]
    }
   ],
   "source": [
    "now = datetime.now()\n",
    "df_results = eror_logs_test(df)\n",
    "df_log = pd.DataFrame(df_results,columns = (['Test_Id','Col_name','index','Eror_Type','Value','Time']))\n",
    "print (f' actul_run time is {datetime.now()-now}')"
   ]
  },
  {
   "cell_type": "code",
   "execution_count": 13,
   "metadata": {},
   "outputs": [
    {
     "data": {
      "text/html": [
       "<div>\n",
       "<style scoped>\n",
       "    .dataframe tbody tr th:only-of-type {\n",
       "        vertical-align: middle;\n",
       "    }\n",
       "\n",
       "    .dataframe tbody tr th {\n",
       "        vertical-align: top;\n",
       "    }\n",
       "\n",
       "    .dataframe thead th {\n",
       "        text-align: right;\n",
       "    }\n",
       "</style>\n",
       "<table border=\"1\" class=\"dataframe\">\n",
       "  <thead>\n",
       "    <tr style=\"text-align: right;\">\n",
       "      <th></th>\n",
       "      <th>Test_Id</th>\n",
       "      <th>Col_name</th>\n",
       "      <th>index</th>\n",
       "      <th>Eror_Type</th>\n",
       "      <th>Value</th>\n",
       "      <th>Time</th>\n",
       "    </tr>\n",
       "  </thead>\n",
       "  <tbody>\n",
       "    <tr>\n",
       "      <th>0</th>\n",
       "      <td>825</td>\n",
       "      <td>SvivaUpdateDay</td>\n",
       "      <td>4</td>\n",
       "      <td>special_char</td>\n",
       "      <td>###</td>\n",
       "      <td>09/03/2022 17:27:57</td>\n",
       "    </tr>\n",
       "    <tr>\n",
       "      <th>1</th>\n",
       "      <td>518</td>\n",
       "      <td>Value</td>\n",
       "      <td>3</td>\n",
       "      <td>Invalid_Link</td>\n",
       "      <td>https://www.bb56c.com/sport/all-sports</td>\n",
       "      <td>09/03/2022 17:27:58</td>\n",
       "    </tr>\n",
       "    <tr>\n",
       "      <th>2</th>\n",
       "      <td>868</td>\n",
       "      <td>Value</td>\n",
       "      <td>7</td>\n",
       "      <td>Invalid_Link</td>\n",
       "      <td>https://www.sk89ysports.com/</td>\n",
       "      <td>09/03/2022 17:27:59</td>\n",
       "    </tr>\n",
       "    <tr>\n",
       "      <th>3</th>\n",
       "      <td>833</td>\n",
       "      <td>Value</td>\n",
       "      <td>11</td>\n",
       "      <td>space</td>\n",
       "      <td></td>\n",
       "      <td>09/03/2022 17:27:59</td>\n",
       "    </tr>\n",
       "    <tr>\n",
       "      <th>4</th>\n",
       "      <td>901</td>\n",
       "      <td>Value</td>\n",
       "      <td>12</td>\n",
       "      <td>space</td>\n",
       "      <td></td>\n",
       "      <td>09/03/2022 17:27:59</td>\n",
       "    </tr>\n",
       "  </tbody>\n",
       "</table>\n",
       "</div>"
      ],
      "text/plain": [
       "   Test_Id        Col_name  index     Eror_Type  \\\n",
       "0      825  SvivaUpdateDay      4  special_char   \n",
       "1      518           Value      3  Invalid_Link   \n",
       "2      868           Value      7  Invalid_Link   \n",
       "3      833           Value     11         space   \n",
       "4      901           Value     12         space   \n",
       "\n",
       "                                    Value                 Time  \n",
       "0                                     ###  09/03/2022 17:27:57  \n",
       "1  https://www.bb56c.com/sport/all-sports  09/03/2022 17:27:58  \n",
       "2            https://www.sk89ysports.com/  09/03/2022 17:27:59  \n",
       "3                                          09/03/2022 17:27:59  \n",
       "4                                          09/03/2022 17:27:59  "
      ]
     },
     "execution_count": 13,
     "metadata": {},
     "output_type": "execute_result"
    }
   ],
   "source": [
    "df_log.head()"
   ]
  },
  {
   "cell_type": "code",
   "execution_count": 14,
   "metadata": {},
   "outputs": [
    {
     "data": {
      "text/plain": [
       "<matplotlib.axes._subplots.AxesSubplot at 0x19f190c73a0>"
      ]
     },
     "execution_count": 14,
     "metadata": {},
     "output_type": "execute_result"
    },
    {
     "data": {
      "image/png": "[encoded data removed]",
      "text/plain": [
       "<Figure size 432x288 with 1 Axes>"
      ]
     },
     "metadata": {
      "needs_background": "light"
     },
     "output_type": "display_data"
    }
   ],
   "source": [
    "df_log.Eror_Type.value_counts().reset_index().plot(kind = 'bar',x= 'index', y = 'Eror_Type')"
   ]
  },
  {
   "cell_type": "code",
   "execution_count": 15,
   "metadata": {},
   "outputs": [
    {
     "data": {
      "text/html": [
       "<div>\n",
       "<style scoped>\n",
       "    .dataframe tbody tr th:only-of-type {\n",
       "        vertical-align: middle;\n",
       "    }\n",
       "\n",
       "    .dataframe tbody tr th {\n",
       "        vertical-align: top;\n",
       "    }\n",
       "\n",
       "    .dataframe thead th {\n",
       "        text-align: right;\n",
       "    }\n",
       "</style>\n",
       "<table border=\"1\" class=\"dataframe\">\n",
       "  <thead>\n",
       "    <tr style=\"text-align: right;\">\n",
       "      <th></th>\n",
       "      <th>Test_Id</th>\n",
       "      <th>Col_name</th>\n",
       "      <th>index</th>\n",
       "      <th>Eror_Type</th>\n",
       "      <th>Value</th>\n",
       "      <th>Time</th>\n",
       "    </tr>\n",
       "  </thead>\n",
       "  <tbody>\n",
       "    <tr>\n",
       "      <th>1</th>\n",
       "      <td>518</td>\n",
       "      <td>Value</td>\n",
       "      <td>3</td>\n",
       "      <td>Invalid_Link</td>\n",
       "      <td>https://www.bb56c.com/sport/all-sports</td>\n",
       "      <td>09/03/2022 17:27:58</td>\n",
       "    </tr>\n",
       "    <tr>\n",
       "      <th>2</th>\n",
       "      <td>868</td>\n",
       "      <td>Value</td>\n",
       "      <td>7</td>\n",
       "      <td>Invalid_Link</td>\n",
       "      <td>https://www.sk89ysports.com/</td>\n",
       "      <td>09/03/2022 17:27:59</td>\n",
       "    </tr>\n",
       "    <tr>\n",
       "      <th>23</th>\n",
       "      <td>953</td>\n",
       "      <td>Value</td>\n",
       "      <td>49</td>\n",
       "      <td>Invalid_Link</td>\n",
       "      <td>https://www.sk4589ysports.com/</td>\n",
       "      <td>09/03/2022 17:27:59</td>\n",
       "    </tr>\n",
       "    <tr>\n",
       "      <th>35</th>\n",
       "      <td>199</td>\n",
       "      <td>Value</td>\n",
       "      <td>72</td>\n",
       "      <td>Invalid_Link</td>\n",
       "      <td>https://www.si565686mplypsychology.org/z-score...</td>\n",
       "      <td>09/03/2022 17:27:59</td>\n",
       "    </tr>\n",
       "  </tbody>\n",
       "</table>\n",
       "</div>"
      ],
      "text/plain": [
       "    Test_Id Col_name  index     Eror_Type  \\\n",
       "1       518    Value      3  Invalid_Link   \n",
       "2       868    Value      7  Invalid_Link   \n",
       "23      953    Value     49  Invalid_Link   \n",
       "35      199    Value     72  Invalid_Link   \n",
       "\n",
       "                                                Value                 Time  \n",
       "1              https://www.bb56c.com/sport/all-sports  09/03/2022 17:27:58  \n",
       "2                        https://www.sk89ysports.com/  09/03/2022 17:27:59  \n",
       "23                     https://www.sk4589ysports.com/  09/03/2022 17:27:59  \n",
       "35  https://www.si565686mplypsychology.org/z-score...  09/03/2022 17:27:59  "
      ]
     },
     "execution_count": 15,
     "metadata": {},
     "output_type": "execute_result"
    }
   ],
   "source": [
    "df_log.query('Eror_Type == \"Invalid_Link\"')"
   ]
  }
 ],
 "metadata": {
  "kernelspec": {
   "display_name": "Python 3",
   "language": "python",
   "name": "python3"
  },
  "language_info": {
   "codemirror_mode": {
    "name": "ipython",
    "version": 3
   },
   "file_extension": ".py",
   "mimetype": "text/x-python",
   "name": "python",
   "nbconvert_exporter": "python",
   "pygments_lexer": "ipython3",
   "version": "3.8.3"
  }
 },
 "nbformat": 4,
 "nbformat_minor": 4
}
